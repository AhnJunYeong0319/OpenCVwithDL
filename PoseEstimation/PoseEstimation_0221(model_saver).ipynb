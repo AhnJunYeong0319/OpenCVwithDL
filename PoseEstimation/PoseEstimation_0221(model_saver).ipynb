{
 "cells": [
  {
   "cell_type": "markdown",
   "metadata": {},
   "source": [
    "# 2021.02.21"
   ]
  },
  {
   "cell_type": "markdown",
   "metadata": {},
   "source": [
    "**-<span style = \"background-color : skyblue\">AlexNet</span> vs. <span style = \"background-color : lightgreen\">VGG16</span> vs. <span style = \"background-color : orange\">ResnetX</span>**   \n",
    "**-Use gray scale images**   \n",
    "**-train/test data saved**"
   ]
  },
  {
   "cell_type": "markdown",
   "metadata": {},
   "source": [
    "### Load Data"
   ]
  },
  {
   "cell_type": "code",
   "execution_count": 4,
   "metadata": {},
   "outputs": [],
   "source": [
    "import warnings\n",
    "warnings.filterwarnings(action = \"ignore\")\n",
    "\n",
    "import pickle\n",
    "import numpy as np\n",
    "import random\n",
    "import cv2\n",
    "import tensorflow as tf\n",
    "from tensorflow.keras.models import Sequential\n",
    "from tensorflow.keras.layers import Dense, Dropout, Activation, Flatten, Conv2D, MaxPooling2D\n",
    "from tensorflow.keras.layers import BatchNormalization\n",
    "\n",
    "dataset = pickle.load(open(\"PoseEstimation_21000_277\", \"rb\"))"
   ]
  },
  {
   "cell_type": "code",
   "execution_count": 7,
   "metadata": {},
   "outputs": [],
   "source": [
    "(X, y), (X_test, y_test) = dataset"
   ]
  },
  {
   "cell_type": "markdown",
   "metadata": {},
   "source": [
    "### Allocate GPU"
   ]
  },
  {
   "cell_type": "code",
   "execution_count": 5,
   "metadata": {},
   "outputs": [],
   "source": [
    "gpu_options = tf.GPUOptions(per_process_gpu_memory_fraction = 0.8)\n",
    "sess = tf.Session(config = tf.ConfigProto(gpu_options = gpu_options))"
   ]
  },
  {
   "cell_type": "markdown",
   "metadata": {},
   "source": [
    "<h2> <span style = \"background-color : skyblue\">AlexNet </span></h2>"
   ]
  },
  {
   "cell_type": "markdown",
   "metadata": {},
   "source": [
    "<h4> <span style = \"background-color : skyblue\">Modeling </span></h4>"
   ]
  },
  {
   "cell_type": "code",
   "execution_count": 8,
   "metadata": {},
   "outputs": [
    {
     "name": "stdout",
     "output_type": "stream",
     "text": [
      "Train on 15120 samples, validate on 1680 samples\n",
      "Epoch 1/10\n",
      "15120/15120 [==============================] - 41s 3ms/sample - loss: 0.6829 - acc: 0.6178 - val_loss: 0.6524 - val_acc: 0.8000\n",
      "Epoch 2/10\n",
      "15120/15120 [==============================] - 32s 2ms/sample - loss: 0.5245 - acc: 0.8194 - val_loss: 0.2804 - val_acc: 0.9167\n",
      "Epoch 3/10\n",
      "15120/15120 [==============================] - 32s 2ms/sample - loss: 0.2068 - acc: 0.9392 - val_loss: 0.1038 - val_acc: 0.9696\n",
      "Epoch 4/10\n",
      "15120/15120 [==============================] - 32s 2ms/sample - loss: 0.1026 - acc: 0.9725 - val_loss: 0.0730 - val_acc: 0.9732\n",
      "Epoch 5/10\n",
      "15120/15120 [==============================] - 32s 2ms/sample - loss: 0.0658 - acc: 0.9812 - val_loss: 0.0460 - val_acc: 0.9881\n",
      "Epoch 6/10\n",
      "15120/15120 [==============================] - 31s 2ms/sample - loss: 0.0470 - acc: 0.9874 - val_loss: 0.0333 - val_acc: 0.9905\n",
      "Epoch 7/10\n",
      "15120/15120 [==============================] - 32s 2ms/sample - loss: 0.0349 - acc: 0.9906 - val_loss: 0.0267 - val_acc: 0.9940\n",
      "Epoch 8/10\n",
      "15120/15120 [==============================] - 33s 2ms/sample - loss: 0.0286 - acc: 0.9926 - val_loss: 0.0236 - val_acc: 0.9946\n",
      "Epoch 9/10\n",
      "15120/15120 [==============================] - 33s 2ms/sample - loss: 0.0228 - acc: 0.9941 - val_loss: 0.0232 - val_acc: 0.9935\n",
      "Epoch 10/10\n",
      "15120/15120 [==============================] - 32s 2ms/sample - loss: 0.0193 - acc: 0.9951 - val_loss: 0.0159 - val_acc: 0.9946\n"
     ]
    },
    {
     "data": {
      "text/plain": [
       "<tensorflow.python.keras.callbacks.History at 0x17e0e1d5388>"
      ]
     },
     "execution_count": 8,
     "metadata": {},
     "output_type": "execute_result"
    }
   ],
   "source": [
    "INPUT_SHAPE = (227, 227, 1)\n",
    "\n",
    "model_A = Sequential()\n",
    "\n",
    "# 1st Convolutional Layer\n",
    "model_A.add( Conv2D(filters=96, input_shape=(INPUT_SHAPE), kernel_size=(11,11), strides=(4,4), padding='valid') )\n",
    "model_A.add( Activation('relu') )\n",
    "\n",
    "# Max Pooling\n",
    "model_A.add( MaxPooling2D(pool_size=(3,3), strides=(2,2), padding='valid') )\n",
    "\n",
    "# 2nd Convolutional Layer\n",
    "model_A.add( Conv2D(filters=256, kernel_size=(5,5), strides=(1,1), padding='same') )\n",
    "model_A.add( Activation('relu') )\n",
    "\n",
    "# Max Pooling\n",
    "model_A.add( MaxPooling2D(pool_size=(3,3), strides=(2,2), padding='valid') )\n",
    "\n",
    "# 3rd Convolutional Layer\n",
    "model_A.add( Conv2D(filters=384, kernel_size=(3,3), strides=(1,1), padding='same') )\n",
    "model_A.add( Activation('relu') )\n",
    "\n",
    "# 4th Convolutional Layer\n",
    "model_A.add( Conv2D(filters=384, kernel_size=(3,3), strides=(1,1), padding='same') )\n",
    "model_A.add( Activation('relu') )\n",
    "\n",
    "# 5th Convolutional Layer\n",
    "model_A.add( Conv2D(filters=256, kernel_size=(3,3), strides=(1,1), padding='same') )\n",
    "model_A.add( Activation('relu') )\n",
    "\n",
    "# Max Pooling\n",
    "model_A.add( MaxPooling2D(pool_size=(3,3), strides=(2,2), padding='valid') )\n",
    "\n",
    "\n",
    "\n",
    "########################## Passing it to a Fully Connected layer ##########################\n",
    "model_A.add( Flatten() )\n",
    "\n",
    "K = INPUT_SHAPE[0] * INPUT_SHAPE[1] * INPUT_SHAPE[2]\n",
    "\n",
    "# 1st Fully Connected Layer\n",
    "model_A.add( Dense(4096, input_shape=( K, )) )\n",
    "model_A.add( Activation('relu') )\n",
    "# Add Dropout\n",
    "model_A.add( Dropout(0.4) )\n",
    "\n",
    "# 2nd Fully Connected Layer\n",
    "model_A.add( Dense(4096) )\n",
    "model_A.add( Activation('relu') )\n",
    "# Add Dropout\n",
    "model_A.add( Dropout(0.4) )\n",
    "\n",
    "# 3rd Fully Connected Layer\n",
    "model_A.add( Dense(1000) )\n",
    "model_A.add( Activation('relu') )\n",
    "# Add Dropout\n",
    "model_A.add( Dropout(0.4) )\n",
    "\n",
    "# Output Layer\n",
    "model_A.add( Dense(2) )\n",
    "model_A.add( Activation('softmax') )\n",
    "          \n",
    "opt = tf.keras.optimizers.Adam(lr = 1e-6)\n",
    "\n",
    "model_A.compile(loss = \"sparse_categorical_crossentropy\", # or  # binary_crossentropy : Dense(1) & Relu\n",
    "             optimizer = opt,\n",
    "             metrics = ['accuracy'])\n",
    "\n",
    "## model_A.summary()\n",
    "\n",
    "model_A.fit(X, y, batch_size = 16, epochs = 10, validation_split = 0.1)  # batch_size"
   ]
  },
  {
   "cell_type": "code",
   "execution_count": 9,
   "metadata": {},
   "outputs": [],
   "source": [
    "model_A.save(\"Alexnet_21000.model\")"
   ]
  },
  {
   "cell_type": "markdown",
   "metadata": {},
   "source": [
    "### Evaluate!"
   ]
  },
  {
   "cell_type": "code",
   "execution_count": 10,
   "metadata": {
    "scrolled": true
   },
   "outputs": [
    {
     "name": "stdout",
     "output_type": "stream",
     "text": [
      "3200/3200 [==============================] - 2s 679us/sample - loss: 0.0144 - acc: 0.9962\n",
      "Validation loss : 0.014386318864999338, Validation accuracy : 0.9962499737739563\n"
     ]
    }
   ],
   "source": [
    "A_train_evaluation = model_A.evaluate(X_test, y_test, batch_size=32) # batch_size doesn't affect the score\n",
    "print(f\"Validation loss : {A_train_evaluation[0]}, Validation accuracy : {A_train_evaluation[1]}\")"
   ]
  },
  {
   "cell_type": "markdown",
   "metadata": {},
   "source": [
    "### Did I code properly?"
   ]
  },
  {
   "cell_type": "code",
   "execution_count": 12,
   "metadata": {
    "scrolled": true
   },
   "outputs": [
    {
     "name": "stdout",
     "output_type": "stream",
     "text": [
      "1\n"
     ]
    },
    {
     "data": {
      "text/plain": [
       "-1"
      ]
     },
     "execution_count": 12,
     "metadata": {},
     "output_type": "execute_result"
    }
   ],
   "source": [
    "k = 319\n",
    "\n",
    "A_predictions = model_A.predict([X_test[k].reshape(1, 227, 227, 1)])\n",
    "print(np.argmax(A_predictions[0]))\n",
    "\n",
    "cv2.imshow(\"title\", X_test[k])\n",
    "cv2.waitKey(0)"
   ]
  },
  {
   "cell_type": "markdown",
   "metadata": {},
   "source": [
    "<h2> <span style = \"background-color : lightgreen\">VGG16 </span></h2>"
   ]
  },
  {
   "cell_type": "markdown",
   "metadata": {},
   "source": [
    "### Resize (227, 227) into (224, 224)"
   ]
  },
  {
   "cell_type": "code",
   "execution_count": 7,
   "metadata": {},
   "outputs": [],
   "source": [
    "XX = X.copy()\n",
    "XX = np.array( [ cv2.resize(XX[i], (224, 224)) for i in range(len(XX))] ).reshape(-1, 224, 224, 1)\n",
    "\n",
    "XX_test = X_test.copy()\n",
    "XX_test = np.array( [ cv2.resize(XX_test[i], (224, 224)) for i in range(len(XX_test))] ).reshape(-1, 224, 224, 1)"
   ]
  },
  {
   "cell_type": "markdown",
   "metadata": {},
   "source": [
    "<h4> <span style = \"background-color : lightgreen\">Modeling</span></h4>"
   ]
  },
  {
   "cell_type": "code",
   "execution_count": 8,
   "metadata": {},
   "outputs": [
    {
     "name": "stdout",
     "output_type": "stream",
     "text": [
      "Train on 2160 samples, validate on 240 samples\n",
      "Epoch 1/10\n",
      "2160/2160 [==============================] - 36s 17ms/sample - loss: 0.7249 - acc: 0.4963 - val_loss: 0.6931 - val_acc: 0.5125\n",
      "Epoch 2/10\n",
      "2160/2160 [==============================] - 34s 16ms/sample - loss: 0.6934 - acc: 0.4986 - val_loss: 0.6931 - val_acc: 0.5125\n",
      "Epoch 3/10\n",
      "2160/2160 [==============================] - 34s 16ms/sample - loss: 0.6935 - acc: 0.4866 - val_loss: 0.6935 - val_acc: 0.4875\n",
      "Epoch 4/10\n",
      "2160/2160 [==============================] - 34s 16ms/sample - loss: 0.6934 - acc: 0.5125 - val_loss: 0.6928 - val_acc: 0.5125\n",
      "Epoch 5/10\n",
      "2160/2160 [==============================] - 34s 16ms/sample - loss: 0.6937 - acc: 0.5023 - val_loss: 0.6929 - val_acc: 0.5125\n",
      "Epoch 6/10\n",
      "2160/2160 [==============================] - 34s 16ms/sample - loss: 0.6934 - acc: 0.4926 - val_loss: 0.6933 - val_acc: 0.4875\n",
      "Epoch 7/10\n",
      "2160/2160 [==============================] - 34s 16ms/sample - loss: 0.6937 - acc: 0.4852 - val_loss: 0.6932 - val_acc: 0.4875\n",
      "Epoch 8/10\n",
      "2160/2160 [==============================] - 34s 16ms/sample - loss: 0.6936 - acc: 0.4921 - val_loss: 0.6932 - val_acc: 0.4875\n",
      "Epoch 9/10\n",
      "2160/2160 [==============================] - 34s 16ms/sample - loss: 0.6933 - acc: 0.4968 - val_loss: 0.6931 - val_acc: 0.4875\n",
      "Epoch 10/10\n",
      "2160/2160 [==============================] - 34s 16ms/sample - loss: 0.6932 - acc: 0.4972 - val_loss: 0.6933 - val_acc: 0.4875\n"
     ]
    },
    {
     "data": {
      "text/plain": [
       "<tensorflow.python.keras.callbacks.History at 0x2240db179c8>"
      ]
     },
     "execution_count": 8,
     "metadata": {},
     "output_type": "execute_result"
    }
   ],
   "source": [
    "INPUT_SHAPE = (224, 224, 1)\n",
    "\n",
    "model_V = Sequential()\n",
    "\n",
    "# 1st Convolutional Layer\n",
    "model_V.add( Conv2D(input_shape= INPUT_SHAPE, filters=64, kernel_size=(3,3), strides = (1, 1), padding=\"same\") )\n",
    "model_V.add( Activation('relu') )\n",
    "\n",
    "# 2nd Convolutional Layer\n",
    "model_V.add( Conv2D(filters=64, kernel_size=(3,3), strides = (1, 1), padding=\"same\") )\n",
    "model_V.add( Activation('relu') )\n",
    "\n",
    "# Max Pooling\n",
    "model_V.add( MaxPooling2D(pool_size=(2,2), strides=(2,2)) )\n",
    "\n",
    "# 3rd Convolutional Layer\n",
    "model_V.add( Conv2D(filters=128, kernel_size=(3,3), strides = (1, 1), padding=\"same\") )\n",
    "model_V.add( Activation('relu') )\n",
    "\n",
    "# 4th Convolutional Layer\n",
    "model_V.add( Conv2D(filters=128, kernel_size=(3,3), strides = (1, 1), padding=\"same\") )\n",
    "model_V.add( Activation('relu') )\n",
    "\n",
    "# Max Pooling\n",
    "model_V.add( MaxPooling2D(pool_size=(2,2), strides=(2,2)) )\n",
    "\n",
    "# 5th Convolutional Layer\n",
    "model_V.add( Conv2D(filters=256, kernel_size=(3,3), strides = (1, 1), padding=\"same\") )\n",
    "model_V.add( Activation('relu') )\n",
    "\n",
    "# 6th Convolutional Layer\n",
    "model_V.add( Conv2D(filters=256, kernel_size=(3,3), strides = (1, 1), padding=\"same\") )\n",
    "model_V.add( Activation('relu') )\n",
    "\n",
    "# 7th Convolutional Layer\n",
    "model_V.add( Conv2D(filters=256, kernel_size=(3,3), strides = (1, 1), padding=\"same\") )\n",
    "model_V.add( Activation('relu') )\n",
    "\n",
    "# Max Pooling\n",
    "model_V.add( MaxPooling2D(pool_size=(2,2), strides=(2,2)) )\n",
    "\n",
    "# 8th Convolutional Layer\n",
    "model_V.add( Conv2D(filters=512, kernel_size=(3,3), strides = (1, 1), padding=\"same\") )\n",
    "model_V.add( Activation('relu') )\n",
    "\n",
    "# 9th Convolutional Layer\n",
    "model_V.add( Conv2D(filters=512, kernel_size=(3,3), strides = (1, 1), padding=\"same\") )\n",
    "model_V.add( Activation('relu') )\n",
    "\n",
    "# 10th Convolutional Layer\n",
    "model_V.add( Conv2D(filters=512, kernel_size=(3,3), strides = (1, 1), padding=\"same\") )\n",
    "model_V.add( Activation('relu') )\n",
    "\n",
    "# Max Pooling\n",
    "model_V.add( MaxPooling2D(pool_size=(2,2), strides=(2,2)) )\n",
    "\n",
    "# 11th Convolutional Layer\n",
    "model_V.add( Conv2D(filters=512, kernel_size=(3,3), strides = (1, 1), padding=\"same\") )\n",
    "model_V.add( Activation('relu') )\n",
    "\n",
    "# 12th Convolutional Layer\n",
    "model_V.add( Conv2D(filters=512, kernel_size=(3,3), strides = (1, 1), padding=\"same\") )\n",
    "model_V.add( Activation('relu') )\n",
    "\n",
    "# 13th Convolutional Layer\n",
    "model_V.add( Conv2D(filters=512, kernel_size=(3,3), strides = (1, 1), padding=\"same\") )\n",
    "model_V.add( Activation('relu') )\n",
    "\n",
    "# Max Pooling\n",
    "model_V.add(MaxPooling2D(pool_size=(2,2),strides=(2,2)))\n",
    "\n",
    "\n",
    "\n",
    "########################## Passing it to a Fully Connected layer ##########################\n",
    "model_V.add( Flatten() )\n",
    "\n",
    "K = INPUT_SHAPE[0] * INPUT_SHAPE[1] * INPUT_SHAPE[2]\n",
    "\n",
    "# 1st Fully Connected Layer\n",
    "model_V.add( Dense(4096, input_shape=( K, )) )\n",
    "model_V.add( Activation('relu') )\n",
    "# Add Dropout\n",
    "model_V.add( Dropout(0.4) )\n",
    "\n",
    "# 2nd Fully Connected Layer\n",
    "model_V.add( Dense(4096) )\n",
    "model_V.add( Activation('relu') )\n",
    "# Add Dropout\n",
    "model_V.add( Dropout(0.4) )\n",
    "\n",
    "# Output Layer\n",
    "model_V.add( Dense(2) )\n",
    "model_V.add( Activation('softmax') )\n",
    "          \n",
    "opt = tf.keras.optimizers.Adam(lr = 0.001)\n",
    "\n",
    "model_V.compile(loss = \"sparse_categorical_crossentropy\", # or binary_crossentropy\n",
    "             optimizer = opt,\n",
    "             metrics = ['accuracy'])\n",
    "\n",
    "# model_V.summary()\n",
    "\n",
    "model_V.fit(XX, y, batch_size = 16, epochs = 10, validation_split = 0.1)  # batch_size"
   ]
  },
  {
   "cell_type": "code",
   "execution_count": null,
   "metadata": {},
   "outputs": [],
   "source": [
    "# model_V.save(\"0218_vggnet.model\")"
   ]
  },
  {
   "cell_type": "markdown",
   "metadata": {},
   "source": [
    "### Evaluate!"
   ]
  },
  {
   "cell_type": "code",
   "execution_count": 9,
   "metadata": {},
   "outputs": [
    {
     "name": "stdout",
     "output_type": "stream",
     "text": [
      "600/600 [==============================] - 5s 8ms/sample - loss: 0.6932 - acc: 0.5000\n",
      "Validation loss : 0.6931554094950358, Validation accuracy : 0.5\n"
     ]
    }
   ],
   "source": [
    "V_train_evaluation = model_V.evaluate(XX_test, y_test, batch_size=32) # batch_size doesn't affect the score\n",
    "print(f\"Validation loss : {V_train_evaluation[0]}, Validation accuracy : {V_train_evaluation[1]}\")"
   ]
  },
  {
   "cell_type": "markdown",
   "metadata": {},
   "source": [
    "### Did I code properly?"
   ]
  },
  {
   "cell_type": "code",
   "execution_count": 12,
   "metadata": {},
   "outputs": [
    {
     "name": "stdout",
     "output_type": "stream",
     "text": [
      "1\n"
     ]
    },
    {
     "data": {
      "text/plain": [
       "-1"
      ]
     },
     "execution_count": 12,
     "metadata": {},
     "output_type": "execute_result"
    }
   ],
   "source": [
    "k = 319\n",
    "\n",
    "V_predictions = model_V.predict([XX_test[k].reshape(1, 224, 224, 1)])\n",
    "print(np.argmax(V_predictions[0]))\n",
    "\n",
    "cv2.imshow(\"title\", XX_test[k])\n",
    "cv2.waitKey(0)"
   ]
  },
  {
   "cell_type": "markdown",
   "metadata": {},
   "source": [
    "<h2><span style = \"background-color : red\"> ROC Curve </span> </h2>"
   ]
  },
  {
   "cell_type": "code",
   "execution_count": 16,
   "metadata": {},
   "outputs": [
    {
     "data": {
      "image/png": "[encoded data removed]",
      "text/plain": [
       "<Figure size 432x288 with 1 Axes>"
      ]
     },
     "metadata": {
      "needs_background": "light"
     },
     "output_type": "display_data"
    },
    {
     "data": {
      "image/png": "[encoded data removed]",
      "text/plain": [
       "<Figure size 432x288 with 1 Axes>"
      ]
     },
     "metadata": {
      "needs_background": "light"
     },
     "output_type": "display_data"
    }
   ],
   "source": [
    "from sklearn.metrics import roc_curve\n",
    "from sklearn.metrics import auc\n",
    "import matplotlib.pyplot as plt\n",
    "########################################## Alexnet ##########################################\n",
    "Alex_y_pred = np.array( [ np.argmax(model_A.predict(X_test[i].reshape(1, 227, 227, 1))) for i in range(len(y_test))] )\n",
    "fpr_Alex, tpr_Alex, thresholds_keras = roc_curve(y_test, Alex_y_pred)\n",
    "auc_Alex = auc(fpr_Alex, tpr_Alex)\n",
    "\n",
    "########################################### VGG16 ###########################################\n",
    "VGG_y_pred = np.array( [ np.argmax(model_V.predict(XX_test[i].reshape(1, 224, 224, 1))) for i in range(len(y_test))] )\n",
    "fpr_VGG, tpr_VGG, thresholds_keras = roc_curve(y_test, VGG_y_pred)\n",
    "auc_VGG = auc(fpr_VGG, tpr_VGG)\n",
    "\n",
    "\n",
    "\n",
    "\n",
    "\n",
    "\n",
    "plt.figure(1)\n",
    "plt.plot([0, 1], [0, 1], 'k--')\n",
    "plt.plot(fpr_Alex, tpr_Alex, label='AlexNet (area = {:.3f})'.format(auc_Alex))\n",
    "plt.plot(fpr_VGG, tpr_VGG, label='VGGNet (area = {:.3f})'.format(auc_VGG))\n",
    "plt.xlabel('False positive rate')\n",
    "plt.ylabel('True positive rate')\n",
    "plt.title('ROC curve')\n",
    "plt.legend(loc='best')\n",
    "plt.show()\n",
    "# Zoom in view of the upper left corner.\n",
    "plt.figure(2)\n",
    "plt.xlim(0, 0.2)\n",
    "plt.ylim(0.8, 1)\n",
    "plt.plot([0, 1], [0, 1], 'k--')\n",
    "plt.plot(fpr_Alex, tpr_Alex, label='AlexNet (area = {:.3f})'.format(auc_Alex))\n",
    "plt.plot(fpr_VGG, tpr_VGG, label='VGGNet (area = {:.3f})'.format(auc_VGG))\n",
    "plt.xlabel('False positive rate')\n",
    "plt.ylabel('True positive rate')\n",
    "plt.title('ROC curve (zoomed in at top left)')\n",
    "plt.legend(loc='best')\n",
    "plt.show()"
   ]
  }
 ],
 "metadata": {
  "kernelspec": {
   "display_name": "Python 3",
   "language": "python",
   "name": "python3"
  },
  "language_info": {
   "codemirror_mode": {
    "name": "ipython",
    "version": 3
   },
   "file_extension": ".py",
   "mimetype": "text/x-python",
   "name": "python",
   "nbconvert_exporter": "python",
   "pygments_lexer": "ipython3",
   "version": "3.7.9"
  }
 },
 "nbformat": 4,
 "nbformat_minor": 4
}
